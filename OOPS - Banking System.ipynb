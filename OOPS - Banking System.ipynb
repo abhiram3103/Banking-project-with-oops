{
 "cells": [
  {
   "cell_type": "markdown",
   "id": "c2c64c69",
   "metadata": {},
   "source": [
    "# OOPS - Banking System"
   ]
  },
  {
   "cell_type": "code",
   "execution_count": 4,
   "id": "daa02000",
   "metadata": {},
   "outputs": [],
   "source": [
    "class BankAccount:\n",
    "    def __init__(self,acc_no,holder_name,balance=0):\n",
    "        self.acc_no = acc_no\n",
    "        self.holder_name = holder_name\n",
    "        self.__balance = balance\n",
    "    def deposit(self,amount):\n",
    "        if amount > 0:\n",
    "            self.__balance += amount\n",
    "            print(f\"Deposited {amount}. New Balance = {self.__balance}\")\n",
    "        else:\n",
    "            print(\"Invalid deposit amount\")\n",
    "    def withdraw(self,amount):\n",
    "        if 0 < amount <= self.__balance:\n",
    "            self.__balance -= amount\n",
    "            print(f\"Withdrawn {amount}. New Balance = {self.__balance}\")\n",
    "        else:\n",
    "            print(\"Insufficient balance or invalid amount\")\n",
    "    def get_balance(self):\n",
    "        return self.__balance\n",
    "    def get_account_number(self):\n",
    "        return self.acc_no\n",
    "\n",
    "\n"
   ]
  },
  {
   "cell_type": "code",
   "execution_count": 5,
   "id": "f43dba8b",
   "metadata": {},
   "outputs": [],
   "source": [
    "class SavingsAccount(BankAccount):\n",
    "    def __init__(self,acc_no,holder_name,balance=0,interest_rate=0.05):\n",
    "        super().__init__(acc_no, holder_name, balance)\n",
    "        self.interest_rate = interest_rate\n",
    "\n",
    "\n",
    "    def add_interest(self):\n",
    "        interest = self.get_balance() * self.interest_rate\n",
    "        self.deposit(interest)\n",
    "        print(f\"Interest {interest} added.\")\n",
    "       \n",
    "\n",
    "\n",
    "class CurrentAccount(BankAccount):\n",
    "    def __init__(self,acc_no,holder_name,balance=0,overdraft_limit=5000):\n",
    "        super().__init__(acc_no, holder_name, balance)\n",
    "        self.overdraft_limit = overdraft_limit\n",
    "\n",
    "\n",
    "    def withdraw(self,amount):\n",
    "        if amount <= self.get_balance() + self.overdraft_limit:\n",
    "            self.deposit(-amount)\n",
    "            print(f\"Withdrawn {amount} using overdraft facility.\")\n",
    "        else:\n",
    "            print(\"Overdraft limit exceeded.\")"
   ]
  },
  {
   "cell_type": "markdown",
   "id": "f92ccc5a",
   "metadata": {},
   "source": [
    "Q1. Create a SavingsAccount object for Ravi and deposit 2000. What is his new balance?\n",
    "\n",
    "Hint: Use the deposit() method and then check balance using get_balance()."
   ]
  },
  {
   "cell_type": "code",
   "execution_count": 6,
   "id": "66e395c9",
   "metadata": {},
   "outputs": [],
   "source": [
    "acc = SavingsAccount(101, \"Ravi\")"
   ]
  },
  {
   "cell_type": "code",
   "execution_count": 7,
   "id": "8c785af4",
   "metadata": {},
   "outputs": [
    {
     "name": "stdout",
     "output_type": "stream",
     "text": [
      "Deposited 2000. New Balance = 2000\n"
     ]
    }
   ],
   "source": [
    "acc.deposit(2000)"
   ]
  },
  {
   "cell_type": "code",
   "execution_count": 21,
   "id": "336d065a",
   "metadata": {},
   "outputs": [
    {
     "data": {
      "text/plain": [
       "2000"
      ]
     },
     "execution_count": 21,
     "metadata": {},
     "output_type": "execute_result"
    }
   ],
   "source": [
    "acc.get_balance()"
   ]
  },
  {
   "cell_type": "markdown",
   "id": "ce38da14",
   "metadata": {},
   "source": [
    "Q2. Try to withdraw 10000 from Sneha’s SavingsAccount which only has 5000. What happens?\n",
    "\n",
    "Hint: Savings accounts do not allow overdrafts. Look at how withdraw() is implemented in BankAccount.\n"
   ]
  },
  {
   "cell_type": "code",
   "execution_count": 31,
   "id": "46815304",
   "metadata": {},
   "outputs": [],
   "source": [
    "sneha_acc = SavingsAccount(102, \"Sneha\")"
   ]
  },
  {
   "cell_type": "code",
   "execution_count": 32,
   "id": "19230f6b",
   "metadata": {},
   "outputs": [
    {
     "name": "stdout",
     "output_type": "stream",
     "text": [
      "Deposited 5000. New Balance = 5000\n"
     ]
    }
   ],
   "source": [
    "sneha_acc.deposit(5000)"
   ]
  },
  {
   "cell_type": "code",
   "execution_count": 28,
   "id": "e7cf34cf",
   "metadata": {},
   "outputs": [
    {
     "data": {
      "text/plain": [
       "5000"
      ]
     },
     "execution_count": 28,
     "metadata": {},
     "output_type": "execute_result"
    }
   ],
   "source": [
    "sneha_acc.get_balance()"
   ]
  },
  {
   "cell_type": "code",
   "execution_count": 33,
   "id": "78bc5845",
   "metadata": {},
   "outputs": [
    {
     "name": "stdout",
     "output_type": "stream",
     "text": [
      "Insufficient balance or invalid amount\n"
     ]
    }
   ],
   "source": [
    "sneha_acc.withdraw(10000)"
   ]
  },
  {
   "cell_type": "markdown",
   "id": "af592fc0",
   "metadata": {},
   "source": [
    "Q3. Add interest to Arjun’s SavingsAccount with balance 10000. What will be his new balance?\n",
    "\n",
    "Hint: Use the add_interest() method. Interest rate is 5% of the current balance.\n"
   ]
  },
  {
   "cell_type": "code",
   "execution_count": 34,
   "id": "788dc5b6",
   "metadata": {},
   "outputs": [],
   "source": [
    "arjun_acc = SavingsAccount(103,'Arjun')"
   ]
  },
  {
   "cell_type": "code",
   "execution_count": 36,
   "id": "25a6018c",
   "metadata": {},
   "outputs": [
    {
     "name": "stdout",
     "output_type": "stream",
     "text": [
      "Deposited 10000. New Balance = 10000\n"
     ]
    }
   ],
   "source": [
    "arjun_acc.deposit(10000)"
   ]
  },
  {
   "cell_type": "code",
   "execution_count": 37,
   "id": "d568d5e9",
   "metadata": {},
   "outputs": [
    {
     "name": "stdout",
     "output_type": "stream",
     "text": [
      "Deposited 500.0. New Balance = 10500.0\n",
      "Interest 500.0 added.\n"
     ]
    }
   ],
   "source": [
    "arjun_acc.add_interest()"
   ]
  },
  {
   "cell_type": "code",
   "execution_count": 41,
   "id": "f571ab0a",
   "metadata": {},
   "outputs": [
    {
     "data": {
      "text/plain": [
       "10500.0"
      ]
     },
     "execution_count": 41,
     "metadata": {},
     "output_type": "execute_result"
    }
   ],
   "source": [
    "arjun_acc.get_balance()"
   ]
  },
  {
   "cell_type": "markdown",
   "id": "e782fcde",
   "metadata": {},
   "source": [
    "Q4. Create a CurrentAccount for Priya with 2000 and withdraw 6000. Is it allowed? Why?\n",
    "\n",
    "Hint: Current accounts allow overdrafts up to -5000. Check how withdraw() in CurrentAccount is different.\n"
   ]
  },
  {
   "cell_type": "code",
   "execution_count": 10,
   "id": "30b4886f",
   "metadata": {},
   "outputs": [],
   "source": [
    "priya_acc = SavingsAccount(104, \"priya\")"
   ]
  },
  {
   "cell_type": "code",
   "execution_count": 11,
   "id": "79016b88",
   "metadata": {},
   "outputs": [
    {
     "name": "stdout",
     "output_type": "stream",
     "text": [
      "Deposited 2000. New Balance = 2000\n"
     ]
    }
   ],
   "source": [
    "priya_acc.deposit(2000)"
   ]
  },
  {
   "cell_type": "code",
   "execution_count": 12,
   "id": "c1b88ccf",
   "metadata": {},
   "outputs": [
    {
     "data": {
      "text/plain": [
       "2000"
      ]
     },
     "execution_count": 12,
     "metadata": {},
     "output_type": "execute_result"
    }
   ],
   "source": [
    "priya_acc.get_balance()"
   ]
  },
  {
   "cell_type": "code",
   "execution_count": 13,
   "id": "9f6f612e",
   "metadata": {},
   "outputs": [
    {
     "name": "stdout",
     "output_type": "stream",
     "text": [
      "Insufficient balance or invalid amount\n"
     ]
    }
   ],
   "source": [
    "priya_acc.withdraw(6000)"
   ]
  },
  {
   "cell_type": "markdown",
   "id": "4f3357cb",
   "metadata": {},
   "source": [
    "Q5. Try to directly access __balance of Meera’s account outside the class. What error do you get?\n",
    "\n",
    "Hint: Remember that variables with __ (double underscores) are private and use name mangling.\n"
   ]
  },
  {
   "cell_type": "code",
   "execution_count": 14,
   "id": "cca5aac1",
   "metadata": {},
   "outputs": [],
   "source": [
    "meera = BankAccount(105,\"meera\",1000)"
   ]
  },
  {
   "cell_type": "code",
   "execution_count": 17,
   "id": "fb1c6c2e",
   "metadata": {},
   "outputs": [
    {
     "ename": "AttributeError",
     "evalue": "type object 'BankAccount' has no attribute '__balance'",
     "output_type": "error",
     "traceback": [
      "\u001b[1;31m---------------------------------------------------------------------------\u001b[0m",
      "\u001b[1;31mAttributeError\u001b[0m                            Traceback (most recent call last)",
      "\u001b[1;32m~\\AppData\\Local\\Temp/ipykernel_9504/2948809459.py\u001b[0m in \u001b[0;36m<module>\u001b[1;34m\u001b[0m\n\u001b[1;32m----> 1\u001b[1;33m \u001b[0mmeera\u001b[0m\u001b[1;33m.\u001b[0m\u001b[0m__balance\u001b[0m\u001b[1;33m(\u001b[0m\u001b[1;33m)\u001b[0m\u001b[1;33m\u001b[0m\u001b[1;33m\u001b[0m\u001b[0m\n\u001b[0m",
      "\u001b[1;31mAttributeError\u001b[0m: type object 'BankAccount' has no attribute '__balance'"
     ]
    }
   ],
   "source": [
    "meera.__balance()"
   ]
  },
  {
   "cell_type": "code",
   "execution_count": 18,
   "id": "3338f135",
   "metadata": {},
   "outputs": [
    {
     "name": "stdout",
     "output_type": "stream",
     "text": [
      "the BankAccount is private so it throws thge error\n"
     ]
    }
   ],
   "source": [
    "print(\"the BankAccount is private so it throws thge error\")"
   ]
  },
  {
   "cell_type": "markdown",
   "id": "e32f290c",
   "metadata": {},
   "source": [
    "Q6. Which OOPS concept is shown when withdraw() behaves differently for SavingsAccount (Ravi) and CurrentAccount (Priya)?\n",
    "\n",
    "Hint: Same method name, different behavior → This is a classic OOPS principle."
   ]
  },
  {
   "cell_type": "code",
   "execution_count": 23,
   "id": "8ca6603e",
   "metadata": {},
   "outputs": [
    {
     "name": "stdout",
     "output_type": "stream",
     "text": [
      "Withdrawn 500. New Balance = 1500\n"
     ]
    }
   ],
   "source": [
    "acc.withdraw(500)"
   ]
  },
  {
   "cell_type": "code",
   "execution_count": 20,
   "id": "b4604319",
   "metadata": {},
   "outputs": [
    {
     "name": "stdout",
     "output_type": "stream",
     "text": [
      "Withdrawn 500. New Balance = 1500\n"
     ]
    }
   ],
   "source": [
    "priya_acc.withdraw(500)"
   ]
  },
  {
   "cell_type": "code",
   "execution_count": null,
   "id": "7429e127",
   "metadata": {},
   "outputs": [],
   "source": []
  }
 ],
 "metadata": {
  "kernelspec": {
   "display_name": "Python 3 (ipykernel)",
   "language": "python",
   "name": "python3"
  },
  "language_info": {
   "codemirror_mode": {
    "name": "ipython",
    "version": 3
   },
   "file_extension": ".py",
   "mimetype": "text/x-python",
   "name": "python",
   "nbconvert_exporter": "python",
   "pygments_lexer": "ipython3",
   "version": "3.9.7"
  }
 },
 "nbformat": 4,
 "nbformat_minor": 5
}
